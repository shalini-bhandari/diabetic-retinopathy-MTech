{
 "cells": [
  {
   "cell_type": "code",
   "execution_count": 8,
   "id": "b2ddfd1e",
   "metadata": {},
   "outputs": [],
   "source": [
    "import pandas as pd\n",
    "import os\n",
    "import shutil"
   ]
  },
  {
   "cell_type": "code",
   "execution_count": 9,
   "id": "e868ee2a",
   "metadata": {},
   "outputs": [],
   "source": [
    "SOURCE_IMAGE_DIR = '../data/full_dataset/train_images/'\n",
    "CSV_PATH = '../data/full_dataset/train.csv'\n",
    "SUBSET_DIR = '../data/subset/'\n",
    "MODELS_DIR = '../models/'\n",
    "RESULTS_DIR = '../results/'"
   ]
  },
  {
   "cell_type": "code",
   "execution_count": 10,
   "id": "c24613d4",
   "metadata": {},
   "outputs": [],
   "source": [
    "# Parameters\n",
    "SAMPLES_PER_CLASS = 250\n",
    "IMG_SIZE = 224\n",
    "BATCH_SIZE = 32\n",
    "EPOCHS = 15"
   ]
  },
  {
   "cell_type": "code",
   "execution_count": 11,
   "id": "7186143f",
   "metadata": {},
   "outputs": [],
   "source": [
    "os.makedirs(SUBSET_DIR, exist_ok=True)\n",
    "os.makedirs(MODELS_DIR, exist_ok=True)\n",
    "os.makedirs(RESULTS_DIR, exist_ok=True)"
   ]
  },
  {
   "cell_type": "code",
   "execution_count": 12,
   "id": "83467efd",
   "metadata": {},
   "outputs": [
    {
     "name": "stdout",
     "output_type": "stream",
     "text": [
      "--- Step 3: Creating Balanced Data Subset ---\n",
      "Copying files for the subset...\n"
     ]
    },
    {
     "name": "stderr",
     "output_type": "stream",
     "text": [
      "C:\\Users\\I768800\\AppData\\Local\\Temp\\ipykernel_14232\\841934899.py:3: FutureWarning: DataFrameGroupBy.apply operated on the grouping columns. This behavior is deprecated, and in a future version of pandas the grouping columns will be excluded from the operation. Either pass `include_groups=False` to exclude the groupings or explicitly select the grouping columns after groupby to silence this warning.\n",
      "  balanced_df = df.groupby('diagnosis').apply(\n"
     ]
    },
    {
     "name": "stdout",
     "output_type": "stream",
     "text": [
      "Subset created with 1193 images.\n"
     ]
    }
   ],
   "source": [
    "print(\"--- Step 3: Creating Balanced Data Subset ---\")\n",
    "df = pd.read_csv(CSV_PATH)\n",
    "balanced_df = df.groupby('diagnosis').apply(\n",
    "    lambda x: x.sample(SAMPLES_PER_CLASS, random_state=42) if len(x) >= SAMPLES_PER_CLASS else x\n",
    ").reset_index(drop=True)\n",
    "\n",
    "print(\"Copying files for the subset...\")\n",
    "for index, row in balanced_df.iterrows():\n",
    "    image_filename = f\"{row['id_code']}.png\"\n",
    "    source_path = os.path.join(SOURCE_IMAGE_DIR, image_filename)\n",
    "    destination_path = os.path.join(SUBSET_DIR, image_filename)\n",
    "    if not os.path.exists(destination_path): # Avoid re-copying if script is run again\n",
    "        shutil.copyfile(source_path, destination_path)\n",
    "print(f\"Subset created with {len(os.listdir(SUBSET_DIR))} images.\")\n",
    "\n"
   ]
  }
 ],
 "metadata": {
  "kernelspec": {
   "display_name": ".venv",
   "language": "python",
   "name": "python3"
  },
  "language_info": {
   "codemirror_mode": {
    "name": "ipython",
    "version": 3
   },
   "file_extension": ".py",
   "mimetype": "text/x-python",
   "name": "python",
   "nbconvert_exporter": "python",
   "pygments_lexer": "ipython3",
   "version": "3.13.7"
  }
 },
 "nbformat": 4,
 "nbformat_minor": 5
}
